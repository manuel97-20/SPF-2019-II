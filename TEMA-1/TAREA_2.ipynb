{
 "cells": [
  {
   "cell_type": "markdown",
   "metadata": {},
   "source": [
    "> ## Tarea 2: (Usando notebook de jupyter)** \n",
    "> ### Fecha de entrega: Septiembre 3, hasta las 5:50 pm\n",
    "> - Write a Python program to convert a list of numeric value into a one-dimensional NumPy array.\n",
    "> \t- Expected Output:\\\\\n",
    "> \t- Original List: [12.23, 13.32, 100, 36.32]\\\\\n",
    "> \t- One-dimensional numpy array: [ 12.23 13.32 100. 36.32] "
   ]
  },
  {
   "cell_type": "code",
   "execution_count": 4,
   "metadata": {},
   "outputs": [],
   "source": [
    "import numpy as np "
   ]
  },
  {
   "cell_type": "code",
   "execution_count": 5,
   "metadata": {},
   "outputs": [
    {
     "data": {
      "text/plain": [
       "array([ 12.23,  13.32, 100.  ,  36.32])"
      ]
     },
     "execution_count": 5,
     "metadata": {},
     "output_type": "execute_result"
    }
   ],
   "source": [
    "x = [12.23, 13.32, 100, 36.32]\n",
    "np.array(x)"
   ]
  },
  {
   "cell_type": "markdown",
   "metadata": {},
   "source": [
    "> - Write a Python program to create a null vector of size 10 and update sixth value to 11."
   ]
  },
  {
   "cell_type": "code",
   "execution_count": 7,
   "metadata": {},
   "outputs": [
    {
     "name": "stdout",
     "output_type": "stream",
     "text": [
      "[ 0.  0.  0.  0.  0.  0. 11.  0.  0.  0.]\n"
     ]
    }
   ],
   "source": [
    "z = np.zeros(10)\n",
    "z[6] = 11\n",
    "print(z)"
   ]
  },
  {
   "cell_type": "markdown",
   "metadata": {},
   "source": [
    "> - Write a Python program to create a array with values ranging from 12 to 38."
   ]
  },
  {
   "cell_type": "code",
   "execution_count": 8,
   "metadata": {},
   "outputs": [
    {
     "name": "stdout",
     "output_type": "stream",
     "text": [
      "[12 13 14 15 16 17 18 19 20 21 22 23 24 25 26 27 28 29 30 31 32 33 34 35\n",
      " 36 37]\n"
     ]
    }
   ],
   "source": [
    "x = np.arange(12,38)\n",
    "print(x)"
   ]
  },
  {
   "cell_type": "markdown",
   "metadata": {},
   "source": [
    "> - Write a Python program to reverse an array (first element becomes last)."
   ]
  },
  {
   "cell_type": "code",
   "execution_count": 9,
   "metadata": {},
   "outputs": [
    {
     "name": "stdout",
     "output_type": "stream",
     "text": [
      "[37 36 35 34 33 32 31 30 29 28 27 26 25 24 23 22 21 20 19 18 17 16 15 14\n",
      " 13 12]\n"
     ]
    }
   ],
   "source": [
    "x = x[::-1]\n",
    "print(x)"
   ]
  },
  {
   "cell_type": "markdown",
   "metadata": {},
   "source": [
    "> - Write a Python program to create a 2d array with 1 on the border and 0 inside.\n",
    ">     \n",
    ">     Expected Output:\n",
    "> \t- Original array:\n",
    "> \t$$\n",
    "     \\begin{pmatrix} \n",
    "     1. &1.& 1.& 1.& 1.\\\\\n",
    "     1. &1.& 1.& 1.& 1.\\\\\n",
    "     1. &1.& 1.& 1.& 1.\\\\\n",
    "     1. &1.& 1.& 1.& 1.\\\\\n",
    "     1. &1.& 1.& 1.& 1.\n",
    "     \\end{pmatrix}\n",
    "    $$\n",
    "> \t1 on the border and 0 inside in the array\n",
    "     $$\n",
    "     \\begin{pmatrix} \n",
    "     1. &1.& 1.& 1.& 1.\\\\\n",
    "     1. &0& 0& 0& 1.\\\\\n",
    "     1. &0& 0& 0& 1.\\\\\n",
    "     1. &0& 0& 0& 1.\\\\\n",
    "     1. &1.& 1.& 1.& 1.\n",
    "     \\end{pmatrix}\n",
    "    $$"
   ]
  },
  {
   "cell_type": "code",
   "execution_count": 15,
   "metadata": {},
   "outputs": [
    {
     "name": "stdout",
     "output_type": "stream",
     "text": [
      "[[1. 1. 1. 1. 1.]\n",
      " [1. 0. 0. 0. 1.]\n",
      " [1. 0. 0. 0. 1.]\n",
      " [1. 0. 0. 0. 1.]\n",
      " [1. 1. 1. 1. 1.]]\n"
     ]
    }
   ],
   "source": [
    "x = np.ones((5,5))\n",
    "x[1:4,1:4] = 0\n",
    "print(x)"
   ]
  },
  {
   "cell_type": "markdown",
   "metadata": {},
   "source": [
    "> - Write a Python program to create a 8x8 matrix and fill it with a checkerboard pattern\n",
    "> \n",
    "> \t- Checkerboard pattern:\n",
    ">     $$\n",
    "     \\begin{pmatrix} \n",
    "        0 & 1 & 0 & 1 & 0 & 1 & 0 & 1\\\\\n",
    "        1 & 0 & 1 & 0 & 1 & 0 & 1 & 0\\\\\n",
    "        0 & 1 & 0 & 1 & 0 & 1 & 0 & 1\\\\\n",
    "        1 & 0 & 1 & 0 & 1 & 0 & 1 & 0\\\\\n",
    "        0 & 1 & 0 & 1 & 0 & 1 & 0 & 1 \\\\\n",
    "        1 & 0 & 1 & 0 & 1 & 0 & 1 & 0\\\\\n",
    "        0 & 1 & 0 & 1 & 0 & 1 & 0 & 1\\\\\n",
    "        1 & 0 & 1 & 0 & 1 & 0 & 1 & 0\n",
    "     \\end{pmatrix}\n",
    "     $$\n",
    "> \t- **Hint** Explore the use of $x[a::b,::c] = d,\tx[::e,f::g] = h$, where the letters are integer numbers."
   ]
  },
  {
   "cell_type": "code",
   "execution_count": 23,
   "metadata": {},
   "outputs": [
    {
     "name": "stdout",
     "output_type": "stream",
     "text": [
      "[[0 1 0 1 0 1 0 1]\n",
      " [1 0 1 0 1 0 1 0]\n",
      " [0 1 0 1 0 1 0 1]\n",
      " [1 0 1 0 1 0 1 0]\n",
      " [0 1 0 1 0 1 0 1]\n",
      " [1 0 1 0 1 0 1 0]\n",
      " [0 1 0 1 0 1 0 1]\n",
      " [1 0 1 0 1 0 1 0]]\n"
     ]
    }
   ],
   "source": [
    "x = np.zeros((8,8),dtype =int)\n",
    "x[1::2,::2] = 1\n",
    "x[::2,1::2] = 1\n",
    "print(x)"
   ]
  },
  {
   "cell_type": "markdown",
   "metadata": {},
   "source": [
    "- Write a Python program to convert the values of Centigrade degrees into Fahrenheit degrees. Centigrade values are stored into a NumPy array.\n",
    ">     - Sample Array [0, 12, 45.21 ,34, 99.91]  \n",
    ">     - Expected Output:\n",
    ">     - Values in Fahrenheit degrees: [0.0 12.0 45.21 34.0 99.91]\n",
    ">     - Values in Centigrade degrees: [-17.77777778 -11.11111111 7.33888889 1.11111111 37.72777778].\n",
    "> \t- *Use functions and list comprehension* read the link https://www.pythonforbeginners.com/lists/list-comprehensions-in-python/, to additional information about of list comprehension in python."
   ]
  },
  {
   "cell_type": "code",
   "execution_count": 6,
   "metadata": {},
   "outputs": [
    {
     "data": {
      "text/plain": [
       "[32.0, 100.22, 69.80000000000001, 44.6, 113.0]"
      ]
     },
     "execution_count": 6,
     "metadata": {},
     "output_type": "execute_result"
    }
   ],
   "source": [
    "celsius = np.array([0, 37.9, 21, 7, 45])\n",
    "into_farenheit = lambda x: x*(9/5)+32\n",
    "farenheit = [into_farenheit(i) for i in celsius]\n",
    "farenheit"
   ]
  },
  {
   "cell_type": "markdown",
   "metadata": {},
   "source": [
    "> - Write a Python program to find the set difference of two arrays. The set difference will return the sorted, unique values in array1 that are not in array2.\n",
    "> \t- Expected Output:\n",
    "> \t- Array1: [ 0 10 20 40 60 80]\n",
    "> \t- Array2: [10, 30, 40, 50, 70, 90]\n",
    "> \t- Set difference between two arrays: [ 0 20 60 80] \n",
    "> \t- **Hint**: explore the use of function *np.setdiff1d*.\n",
    "> - Write a Python program to create a 2-D array whose diagonal equals [4, 5, 6, 8] and 0's elsewhere.\n",
    "> "
   ]
  },
  {
   "cell_type": "code",
   "execution_count": 7,
   "metadata": {},
   "outputs": [
    {
     "data": {
      "text/plain": [
       "array([ 0, 20, 60, 80])"
      ]
     },
     "execution_count": 7,
     "metadata": {},
     "output_type": "execute_result"
    }
   ],
   "source": [
    "array1 = np.array([0,10,20,40,60,80])\n",
    "array2= np.array([10,30,40,50,70,90])\n",
    "np.setdiff1d(array1,array2,assume_unique=False)\n",
    "\n"
   ]
  },
  {
   "cell_type": "markdown",
   "metadata": {},
   "source": [
    "> - Write a Python program to create a 2-D array whose diagonal equals [4, 5, 6, 8] and 0's elsewhere.\n"
   ]
  },
  {
   "cell_type": "code",
   "execution_count": 15,
   "metadata": {},
   "outputs": [
    {
     "data": {
      "text/plain": [
       "array([[0., 0., 0., 0.],\n",
       "       [0., 0., 0., 0.],\n",
       "       [0., 0., 0., 0.],\n",
       "       [0., 0., 0., 0.]])"
      ]
     },
     "execution_count": 15,
     "metadata": {},
     "output_type": "execute_result"
    }
   ],
   "source": [
    "mtrx = np.zeros([4,4])\n",
    "mtrx"
   ]
  },
  {
   "cell_type": "code",
   "execution_count": 17,
   "metadata": {},
   "outputs": [
    {
     "data": {
      "text/plain": [
       "array([[4., 0., 0., 0.],\n",
       "       [0., 5., 0., 0.],\n",
       "       [0., 0., 6., 0.],\n",
       "       [0., 0., 0., 8.]])"
      ]
     },
     "execution_count": 17,
     "metadata": {},
     "output_type": "execute_result"
    }
   ],
   "source": [
    "    diag = lambda x,y, value: value if x == y else 0\n",
    "diag_array=np.array([4,5,6,8])\n",
    "for i in range(4):\n",
    "        for j in range(4):\n",
    "            mtrx[i,j] = diag(i,j,diag_array[i])\n",
    "           \n",
    "mtrx        "
   ]
  },
  {
   "cell_type": "code",
   "execution_count": null,
   "metadata": {},
   "outputs": [],
   "source": []
  }
 ],
 "metadata": {
  "kernelspec": {
   "display_name": "Python 3",
   "language": "python",
   "name": "python3"
  },
  "language_info": {
   "codemirror_mode": {
    "name": "ipython",
    "version": 3
   },
   "file_extension": ".py",
   "mimetype": "text/x-python",
   "name": "python",
   "nbconvert_exporter": "python",
   "pygments_lexer": "ipython3",
   "version": "3.7.3"
  }
 },
 "nbformat": 4,
 "nbformat_minor": 2
}
