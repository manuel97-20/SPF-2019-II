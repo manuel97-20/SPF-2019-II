{
 "cells": [
  {
   "cell_type": "code",
   "execution_count": 1,
   "metadata": {},
   "outputs": [],
   "source": [
    "# Importación de paquetes \n",
    "import numpy as np \n",
    "import matplotlib as plt "
   ]
  },
  {
   "cell_type": "code",
   "execution_count": 7,
   "metadata": {},
   "outputs": [],
   "source": [
    "d = 5\n",
    "T = 25200\n",
    "T_at_min = 5; T_at_max = 30\n",
    "T_mujer_min =60; T_mujer_max = 300\n",
    "T_hombre_min = 40; T_hombre_max = 120\n",
    "C_mujer_min = 30; C_mujer_max = 100\n",
    "C_hombre_min = 20; C_hombre_max = 80\n",
    "\n",
    "Personas = np.random.rand(T)\n",
    "  # Lista\n",
    "T_atencion = []\n",
    "C_mujeres = []\n",
    "Ganancias = []\n",
    "C_hombres = []\n",
    "P_atendidas = []\n",
    "Consu_h = []\n",
    "Consu_m = []\n",
    "\n",
    "for i in range(d):\n",
    "      \n",
    "    # Variables\n",
    "    c_muj = 0; c_hom = 0\n",
    "    t_atencion = 0\n",
    "    j = 0\n",
    "    ganancias = 0\n",
    "    con_mujer =0; con_hombre\n",
    "    while T>= t_atencion:\n",
    "        t_atencion += np.random.uniform(T_at_min,T_at_max)\n",
    "        if Personas[j]<0.5:\n",
    "            c_muj += 1\n",
    "            t_atencion += np.random.uniform(T_mujer_min,T_mujer_max)\n",
    "            con_mujer += np.random.uniform(C_mujer_min,C_mujer_max)\n",
    "            ganancias += con_mujer\n",
    "            \n",
    "        else: # Hombre\n",
    "            c_hom += 1\n",
    "            t_atencion += np.random.uniform(T_hombre_min,T_hombre_max)\n",
    "            \n",
    "            ganancias += np.random.uniform(C_hombre_min,C_hombre_max)\n",
    "            \n",
    "        j += 1 \n",
    "            \n",
    "    T_atencion.append(t_atencion)\n",
    "    C_mujeres.append(c_muj)\n",
    "    Ganancias.append(ganancias)\n",
    "    C_hombres.append(c_hom)\n",
    "    P_atendidas.append(j) \n",
    "        \n",
    "        "
   ]
  },
  {
   "cell_type": "code",
   "execution_count": 8,
   "metadata": {},
   "outputs": [
    {
     "data": {
      "text/plain": [
       "[86, 86, 86, 86, 85]"
      ]
     },
     "execution_count": 8,
     "metadata": {},
     "output_type": "execute_result"
    }
   ],
   "source": [
    "C_hombres"
   ]
  },
  {
   "cell_type": "code",
   "execution_count": null,
   "metadata": {},
   "outputs": [],
   "source": []
  }
 ],
 "metadata": {
  "kernelspec": {
   "display_name": "Python 3",
   "language": "python",
   "name": "python3"
  },
  "language_info": {
   "codemirror_mode": {
    "name": "ipython",
    "version": 3
   },
   "file_extension": ".py",
   "mimetype": "text/x-python",
   "name": "python",
   "nbconvert_exporter": "python",
   "pygments_lexer": "ipython3",
   "version": "3.7.3"
  }
 },
 "nbformat": 4,
 "nbformat_minor": 2
}
