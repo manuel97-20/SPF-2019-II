{
 "cells": [
  {
   "cell_type": "code",
   "execution_count": 1,
   "metadata": {},
   "outputs": [],
   "source": [
    "#importar los paquetes que se van a usar\n",
    "import pandas as pd\n",
    "import pandas_datareader.data as web\n",
    "import numpy as np\n",
    "import datetime\n",
    "import matplotlib.pyplot as plt\n",
    "import scipy.stats as st\n",
    "import seaborn as sns\n",
    "%matplotlib inline\n",
    "#algunas opciones para Pandas\n",
    "pd.set_option('display.notebook_repr_html', True)\n",
    "pd.set_option('display.max_columns', 6)\n",
    "pd.set_option('display.max_rows', 10)\n",
    "pd.set_option('display.width', 78)\n",
    "pd.set_option('precision', 3)"
   ]
  },
  {
   "cell_type": "code",
   "execution_count": 7,
   "metadata": {},
   "outputs": [],
   "source": [
    "# Función para descargar precios de cierre ajustados:\n",
    "def get_adj_closes(tickers, start_date=None, end_date=None):\n",
    "    # Fecha inicio por defecto (start_date='2010-01-01') y fecha fin por defecto (end_date=today)\n",
    "    # Descargamos DataFrame con todos los datos\n",
    "    closes = web.DataReader(name=tickers, data_source='yahoo', start=start_date, end=end_date)\n",
    "    # Solo necesitamos los precios ajustados en el cierre\n",
    "    closes = closes['Adj Close']\n",
    "    # Se ordenan los índices de manera ascendente\n",
    "    closes.sort_index(inplace=True)\n",
    "    return closes"
   ]
  },
  {
   "cell_type": "markdown",
   "metadata": {},
   "source": [
    "## Valuación usando simulación: modelo normal para los rendimientos"
   ]
  },
  {
   "cell_type": "code",
   "execution_count": 3,
   "metadata": {},
   "outputs": [
    {
     "data": {
      "text/html": [
       "<div>\n",
       "<style scoped>\n",
       "    .dataframe tbody tr th:only-of-type {\n",
       "        vertical-align: middle;\n",
       "    }\n",
       "\n",
       "    .dataframe tbody tr th {\n",
       "        vertical-align: top;\n",
       "    }\n",
       "\n",
       "    .dataframe thead th {\n",
       "        text-align: right;\n",
       "    }\n",
       "</style>\n",
       "<table border=\"1\" class=\"dataframe\">\n",
       "  <thead>\n",
       "    <tr style=\"text-align: right;\">\n",
       "      <th></th>\n",
       "      <th>Strike</th>\n",
       "      <th>Type</th>\n",
       "      <th>Symbol</th>\n",
       "      <th>...</th>\n",
       "      <th>Quote_Time</th>\n",
       "      <th>Last_Trade_Date</th>\n",
       "      <th>JSON</th>\n",
       "    </tr>\n",
       "    <tr>\n",
       "      <th>Expiry</th>\n",
       "      <th></th>\n",
       "      <th></th>\n",
       "      <th></th>\n",
       "      <th></th>\n",
       "      <th></th>\n",
       "      <th></th>\n",
       "      <th></th>\n",
       "    </tr>\n",
       "  </thead>\n",
       "  <tbody>\n",
       "    <tr>\n",
       "      <td>2019-11-22</td>\n",
       "      <td>262.5</td>\n",
       "      <td>call</td>\n",
       "      <td>AAPL191122C00262500</td>\n",
       "      <td>...</td>\n",
       "      <td>2019-11-21 19:34:10</td>\n",
       "      <td>2019-11-21 19:18:20</td>\n",
       "      <td>{'contractSymbol': 'AAPL191122C00262500', 'str...</td>\n",
       "    </tr>\n",
       "    <tr>\n",
       "      <td>2019-11-22</td>\n",
       "      <td>290.0</td>\n",
       "      <td>put</td>\n",
       "      <td>AAPL191122P00290000</td>\n",
       "      <td>...</td>\n",
       "      <td>2019-11-21 19:34:10</td>\n",
       "      <td>2019-11-08 20:46:18</td>\n",
       "      <td>{'contractSymbol': 'AAPL191122P00290000', 'str...</td>\n",
       "    </tr>\n",
       "    <tr>\n",
       "      <td>2019-11-22</td>\n",
       "      <td>175.0</td>\n",
       "      <td>put</td>\n",
       "      <td>AAPL191122P00175000</td>\n",
       "      <td>...</td>\n",
       "      <td>2019-11-21 19:34:10</td>\n",
       "      <td>2019-11-08 18:17:22</td>\n",
       "      <td>{'contractSymbol': 'AAPL191122P00175000', 'str...</td>\n",
       "    </tr>\n",
       "    <tr>\n",
       "      <td>2019-11-22</td>\n",
       "      <td>175.0</td>\n",
       "      <td>call</td>\n",
       "      <td>AAPL191122C00175000</td>\n",
       "      <td>...</td>\n",
       "      <td>2019-11-21 19:34:10</td>\n",
       "      <td>2019-11-11 17:40:28</td>\n",
       "      <td>{'contractSymbol': 'AAPL191122C00175000', 'str...</td>\n",
       "    </tr>\n",
       "    <tr>\n",
       "      <td>2019-11-22</td>\n",
       "      <td>232.5</td>\n",
       "      <td>put</td>\n",
       "      <td>AAPL191122P00232500</td>\n",
       "      <td>...</td>\n",
       "      <td>2019-11-21 19:34:10</td>\n",
       "      <td>2019-11-21 17:47:27</td>\n",
       "      <td>{'contractSymbol': 'AAPL191122P00232500', 'str...</td>\n",
       "    </tr>\n",
       "    <tr>\n",
       "      <td>...</td>\n",
       "      <td>...</td>\n",
       "      <td>...</td>\n",
       "      <td>...</td>\n",
       "      <td>...</td>\n",
       "      <td>...</td>\n",
       "      <td>...</td>\n",
       "      <td>...</td>\n",
       "    </tr>\n",
       "    <tr>\n",
       "      <td>2022-01-21</td>\n",
       "      <td>185.0</td>\n",
       "      <td>call</td>\n",
       "      <td>AAPL220121C00185000</td>\n",
       "      <td>...</td>\n",
       "      <td>2019-11-21 19:34:18</td>\n",
       "      <td>2019-11-20 17:08:35</td>\n",
       "      <td>{'contractSymbol': 'AAPL220121C00185000', 'str...</td>\n",
       "    </tr>\n",
       "    <tr>\n",
       "      <td>2022-01-21</td>\n",
       "      <td>185.0</td>\n",
       "      <td>put</td>\n",
       "      <td>AAPL220121P00185000</td>\n",
       "      <td>...</td>\n",
       "      <td>2019-11-21 19:34:18</td>\n",
       "      <td>2019-11-20 20:58:12</td>\n",
       "      <td>{'contractSymbol': 'AAPL220121P00185000', 'str...</td>\n",
       "    </tr>\n",
       "    <tr>\n",
       "      <td>2022-01-21</td>\n",
       "      <td>235.0</td>\n",
       "      <td>put</td>\n",
       "      <td>AAPL220121P00235000</td>\n",
       "      <td>...</td>\n",
       "      <td>2019-11-21 19:34:18</td>\n",
       "      <td>2019-11-20 16:33:23</td>\n",
       "      <td>{'contractSymbol': 'AAPL220121P00235000', 'str...</td>\n",
       "    </tr>\n",
       "    <tr>\n",
       "      <td>2022-01-21</td>\n",
       "      <td>220.0</td>\n",
       "      <td>call</td>\n",
       "      <td>AAPL220121C00220000</td>\n",
       "      <td>...</td>\n",
       "      <td>2019-11-21 19:34:18</td>\n",
       "      <td>2019-11-21 15:39:45</td>\n",
       "      <td>{'contractSymbol': 'AAPL220121C00220000', 'str...</td>\n",
       "    </tr>\n",
       "    <tr>\n",
       "      <td>2022-01-21</td>\n",
       "      <td>210.0</td>\n",
       "      <td>call</td>\n",
       "      <td>AAPL220121C00210000</td>\n",
       "      <td>...</td>\n",
       "      <td>2019-11-21 19:34:18</td>\n",
       "      <td>2019-11-20 19:14:51</td>\n",
       "      <td>{'contractSymbol': 'AAPL220121C00210000', 'str...</td>\n",
       "    </tr>\n",
       "  </tbody>\n",
       "</table>\n",
       "<p>1494 rows × 18 columns</p>\n",
       "</div>"
      ],
      "text/plain": [
       "            Strike  Type               Symbol  ...          Quote_Time  \\\n",
       "Expiry                                         ...                       \n",
       "2019-11-22   262.5  call  AAPL191122C00262500  ... 2019-11-21 19:34:10   \n",
       "2019-11-22   290.0   put  AAPL191122P00290000  ... 2019-11-21 19:34:10   \n",
       "2019-11-22   175.0   put  AAPL191122P00175000  ... 2019-11-21 19:34:10   \n",
       "2019-11-22   175.0  call  AAPL191122C00175000  ... 2019-11-21 19:34:10   \n",
       "2019-11-22   232.5   put  AAPL191122P00232500  ... 2019-11-21 19:34:10   \n",
       "...            ...   ...                  ...  ...                 ...   \n",
       "2022-01-21   185.0  call  AAPL220121C00185000  ... 2019-11-21 19:34:18   \n",
       "2022-01-21   185.0   put  AAPL220121P00185000  ... 2019-11-21 19:34:18   \n",
       "2022-01-21   235.0   put  AAPL220121P00235000  ... 2019-11-21 19:34:18   \n",
       "2022-01-21   220.0  call  AAPL220121C00220000  ... 2019-11-21 19:34:18   \n",
       "2022-01-21   210.0  call  AAPL220121C00210000  ... 2019-11-21 19:34:18   \n",
       "\n",
       "               Last_Trade_Date  \\\n",
       "Expiry                           \n",
       "2019-11-22 2019-11-21 19:18:20   \n",
       "2019-11-22 2019-11-08 20:46:18   \n",
       "2019-11-22 2019-11-08 18:17:22   \n",
       "2019-11-22 2019-11-11 17:40:28   \n",
       "2019-11-22 2019-11-21 17:47:27   \n",
       "...                        ...   \n",
       "2022-01-21 2019-11-20 17:08:35   \n",
       "2022-01-21 2019-11-20 20:58:12   \n",
       "2022-01-21 2019-11-20 16:33:23   \n",
       "2022-01-21 2019-11-21 15:39:45   \n",
       "2022-01-21 2019-11-20 19:14:51   \n",
       "\n",
       "                                                         JSON  \n",
       "Expiry                                                         \n",
       "2019-11-22  {'contractSymbol': 'AAPL191122C00262500', 'str...  \n",
       "2019-11-22  {'contractSymbol': 'AAPL191122P00290000', 'str...  \n",
       "2019-11-22  {'contractSymbol': 'AAPL191122P00175000', 'str...  \n",
       "2019-11-22  {'contractSymbol': 'AAPL191122C00175000', 'str...  \n",
       "2019-11-22  {'contractSymbol': 'AAPL191122P00232500', 'str...  \n",
       "...                                                       ...  \n",
       "2022-01-21  {'contractSymbol': 'AAPL220121C00185000', 'str...  \n",
       "2022-01-21  {'contractSymbol': 'AAPL220121P00185000', 'str...  \n",
       "2022-01-21  {'contractSymbol': 'AAPL220121P00235000', 'str...  \n",
       "2022-01-21  {'contractSymbol': 'AAPL220121C00220000', 'str...  \n",
       "2022-01-21  {'contractSymbol': 'AAPL220121C00210000', 'str...  \n",
       "\n",
       "[1494 rows x 18 columns]"
      ]
     },
     "execution_count": 3,
     "metadata": {},
     "output_type": "execute_result"
    }
   ],
   "source": [
    "aapl = web.YahooOptions('AAPL')\n",
    "aapl_opt = aapl.get_all_data().reset_index()\n",
    "aapl_opt.set_index('Expiry').sort_index()"
   ]
  },
  {
   "cell_type": "code",
   "execution_count": 4,
   "metadata": {},
   "outputs": [
    {
     "data": {
      "text/html": [
       "<div>\n",
       "<style scoped>\n",
       "    .dataframe tbody tr th:only-of-type {\n",
       "        vertical-align: middle;\n",
       "    }\n",
       "\n",
       "    .dataframe tbody tr th {\n",
       "        vertical-align: top;\n",
       "    }\n",
       "\n",
       "    .dataframe thead th {\n",
       "        text-align: right;\n",
       "    }\n",
       "</style>\n",
       "<table border=\"1\" class=\"dataframe\">\n",
       "  <thead>\n",
       "    <tr style=\"text-align: right;\">\n",
       "      <th></th>\n",
       "      <th>Strike</th>\n",
       "      <th>Expiry</th>\n",
       "      <th>Type</th>\n",
       "      <th>...</th>\n",
       "      <th>Quote_Time</th>\n",
       "      <th>Last_Trade_Date</th>\n",
       "      <th>JSON</th>\n",
       "    </tr>\n",
       "  </thead>\n",
       "  <tbody>\n",
       "    <tr>\n",
       "      <td>853</td>\n",
       "      <td>240.0</td>\n",
       "      <td>2021-01-15</td>\n",
       "      <td>put</td>\n",
       "      <td>...</td>\n",
       "      <td>2019-11-21 19:34:18</td>\n",
       "      <td>2019-11-21 16:59:19</td>\n",
       "      <td>{'contractSymbol': 'AAPL210115P00240000', 'str...</td>\n",
       "    </tr>\n",
       "  </tbody>\n",
       "</table>\n",
       "<p>1 rows × 19 columns</p>\n",
       "</div>"
      ],
      "text/plain": [
       "     Strike     Expiry Type  ...          Quote_Time     Last_Trade_Date  \\\n",
       "853   240.0 2021-01-15  put  ... 2019-11-21 19:34:18 2019-11-21 16:59:19   \n",
       "\n",
       "                                                  JSON  \n",
       "853  {'contractSymbol': 'AAPL210115P00240000', 'str...  \n",
       "\n",
       "[1 rows x 19 columns]"
      ]
     },
     "execution_count": 4,
     "metadata": {},
     "output_type": "execute_result"
    }
   ],
   "source": [
    "indice_opt = aapl_opt.loc[(aapl_opt.Type=='put') & (aapl_opt.Strike==240) & (aapl_opt.Expiry=='2021-01-15')]\n",
    "indice_opt"
   ]
  },
  {
   "cell_type": "code",
   "execution_count": 5,
   "metadata": {},
   "outputs": [
    {
     "data": {
      "text/plain": [
       "{'contractSymbol': 'AAPL210115P00240000',\n",
       " 'strike': 240.0,\n",
       " 'currency': 'USD',\n",
       " 'lastPrice': 18.6,\n",
       " 'change': 0.11000061,\n",
       " 'percentChange': 0.5949195,\n",
       " 'volume': 23,\n",
       " 'openInterest': 1539,\n",
       " 'bid': 18.25,\n",
       " 'ask': 18.55,\n",
       " 'contractSize': 'REGULAR',\n",
       " 'expiration': 1610668800,\n",
       " 'lastTradeDate': 1574355559,\n",
       " 'impliedVolatility': 0.26428958374023437,\n",
       " 'inTheMoney': False}"
      ]
     },
     "execution_count": 5,
     "metadata": {},
     "output_type": "execute_result"
    }
   ],
   "source": [
    "i_opt= indice_opt.index\n",
    "opcion_valuar = aapl_opt.loc[i_opt[0]]\n",
    "opcion_valuar['JSON']"
   ]
  },
  {
   "cell_type": "markdown",
   "metadata": {},
   "source": [
    "# Simulación de precios usando rendimiento simple y logarítmico "
   ]
  },
  {
   "cell_type": "markdown",
   "metadata": {},
   "source": [
    "* Comenzaremos por suponer que los rendimientos son un p.e. estacionario que distribuyen $\\mathcal{N}(\\mu,\\sigma)$."
   ]
  },
  {
   "cell_type": "code",
   "execution_count": 8,
   "metadata": {},
   "outputs": [
    {
     "data": {
      "text/html": [
       "<div>\n",
       "<style scoped>\n",
       "    .dataframe tbody tr th:only-of-type {\n",
       "        vertical-align: middle;\n",
       "    }\n",
       "\n",
       "    .dataframe tbody tr th {\n",
       "        vertical-align: top;\n",
       "    }\n",
       "\n",
       "    .dataframe thead th {\n",
       "        text-align: right;\n",
       "    }\n",
       "</style>\n",
       "<table border=\"1\" class=\"dataframe\">\n",
       "  <thead>\n",
       "    <tr style=\"text-align: right;\">\n",
       "      <th>Symbols</th>\n",
       "      <th>AAPL</th>\n",
       "    </tr>\n",
       "    <tr>\n",
       "      <th>Date</th>\n",
       "      <th></th>\n",
       "    </tr>\n",
       "  </thead>\n",
       "  <tbody>\n",
       "    <tr>\n",
       "      <td>2017-01-03</td>\n",
       "      <td>110.954</td>\n",
       "    </tr>\n",
       "    <tr>\n",
       "      <td>2017-01-04</td>\n",
       "      <td>110.830</td>\n",
       "    </tr>\n",
       "    <tr>\n",
       "      <td>2017-01-05</td>\n",
       "      <td>111.393</td>\n",
       "    </tr>\n",
       "    <tr>\n",
       "      <td>2017-01-06</td>\n",
       "      <td>112.635</td>\n",
       "    </tr>\n",
       "    <tr>\n",
       "      <td>2017-01-09</td>\n",
       "      <td>113.667</td>\n",
       "    </tr>\n",
       "    <tr>\n",
       "      <td>...</td>\n",
       "      <td>...</td>\n",
       "    </tr>\n",
       "    <tr>\n",
       "      <td>2019-11-15</td>\n",
       "      <td>265.760</td>\n",
       "    </tr>\n",
       "    <tr>\n",
       "      <td>2019-11-18</td>\n",
       "      <td>267.100</td>\n",
       "    </tr>\n",
       "    <tr>\n",
       "      <td>2019-11-19</td>\n",
       "      <td>266.290</td>\n",
       "    </tr>\n",
       "    <tr>\n",
       "      <td>2019-11-20</td>\n",
       "      <td>263.190</td>\n",
       "    </tr>\n",
       "    <tr>\n",
       "      <td>2019-11-21</td>\n",
       "      <td>262.380</td>\n",
       "    </tr>\n",
       "  </tbody>\n",
       "</table>\n",
       "<p>728 rows × 1 columns</p>\n",
       "</div>"
      ],
      "text/plain": [
       "Symbols        AAPL\n",
       "Date               \n",
       "2017-01-03  110.954\n",
       "2017-01-04  110.830\n",
       "2017-01-05  111.393\n",
       "2017-01-06  112.635\n",
       "2017-01-09  113.667\n",
       "...             ...\n",
       "2019-11-15  265.760\n",
       "2019-11-18  267.100\n",
       "2019-11-19  266.290\n",
       "2019-11-20  263.190\n",
       "2019-11-21  262.380\n",
       "\n",
       "[728 rows x 1 columns]"
      ]
     },
     "execution_count": 8,
     "metadata": {},
     "output_type": "execute_result"
    }
   ],
   "source": [
    "# Descargamos los precios de apple\n",
    "ticker = ['AAPL']\n",
    "start_date = '2017-01-01'\n",
    "\n",
    "closes_aapl = get_adj_closes(ticker, start_date)\n",
    "closes_aapl"
   ]
  },
  {
   "cell_type": "code",
   "execution_count": 9,
   "metadata": {},
   "outputs": [
    {
     "name": "stdout",
     "output_type": "stream",
     "text": [
      "Precio del activo subyacente actual =  262.395\n"
     ]
    }
   ],
   "source": [
    "print('Precio del activo subyacente actual = ',opcion_valuar.Underlying_Price)"
   ]
  },
  {
   "cell_type": "markdown",
   "metadata": {},
   "source": [
    "- **Rendimiento Simple**"
   ]
  },
  {
   "cell_type": "code",
   "execution_count": 11,
   "metadata": {},
   "outputs": [
    {
     "data": {
      "text/html": [
       "<div>\n",
       "<style scoped>\n",
       "    .dataframe tbody tr th:only-of-type {\n",
       "        vertical-align: middle;\n",
       "    }\n",
       "\n",
       "    .dataframe tbody tr th {\n",
       "        vertical-align: top;\n",
       "    }\n",
       "\n",
       "    .dataframe thead th {\n",
       "        text-align: right;\n",
       "    }\n",
       "</style>\n",
       "<table border=\"1\" class=\"dataframe\">\n",
       "  <thead>\n",
       "    <tr style=\"text-align: right;\">\n",
       "      <th>Symbols</th>\n",
       "      <th>AAPL</th>\n",
       "    </tr>\n",
       "    <tr>\n",
       "      <th>Date</th>\n",
       "      <th></th>\n",
       "    </tr>\n",
       "  </thead>\n",
       "  <tbody>\n",
       "    <tr>\n",
       "      <td>2017-01-04</td>\n",
       "      <td>-0.001</td>\n",
       "    </tr>\n",
       "    <tr>\n",
       "      <td>2017-01-05</td>\n",
       "      <td>0.005</td>\n",
       "    </tr>\n",
       "    <tr>\n",
       "      <td>2017-01-06</td>\n",
       "      <td>0.011</td>\n",
       "    </tr>\n",
       "    <tr>\n",
       "      <td>2017-01-09</td>\n",
       "      <td>0.009</td>\n",
       "    </tr>\n",
       "    <tr>\n",
       "      <td>2017-01-10</td>\n",
       "      <td>0.001</td>\n",
       "    </tr>\n",
       "    <tr>\n",
       "      <td>...</td>\n",
       "      <td>...</td>\n",
       "    </tr>\n",
       "    <tr>\n",
       "      <td>2019-11-15</td>\n",
       "      <td>0.012</td>\n",
       "    </tr>\n",
       "    <tr>\n",
       "      <td>2019-11-18</td>\n",
       "      <td>0.005</td>\n",
       "    </tr>\n",
       "    <tr>\n",
       "      <td>2019-11-19</td>\n",
       "      <td>-0.003</td>\n",
       "    </tr>\n",
       "    <tr>\n",
       "      <td>2019-11-20</td>\n",
       "      <td>-0.012</td>\n",
       "    </tr>\n",
       "    <tr>\n",
       "      <td>2019-11-21</td>\n",
       "      <td>-0.003</td>\n",
       "    </tr>\n",
       "  </tbody>\n",
       "</table>\n",
       "<p>727 rows × 1 columns</p>\n",
       "</div>"
      ],
      "text/plain": [
       "Symbols      AAPL\n",
       "Date             \n",
       "2017-01-04 -0.001\n",
       "2017-01-05  0.005\n",
       "2017-01-06  0.011\n",
       "2017-01-09  0.009\n",
       "2017-01-10  0.001\n",
       "...           ...\n",
       "2019-11-15  0.012\n",
       "2019-11-18  0.005\n",
       "2019-11-19 -0.003\n",
       "2019-11-20 -0.012\n",
       "2019-11-21 -0.003\n",
       "\n",
       "[727 rows x 1 columns]"
      ]
     },
     "execution_count": 11,
     "metadata": {},
     "output_type": "execute_result"
    }
   ],
   "source": [
    "# Obtenemos el rendimiento simple\n",
    "Ri = closes_aapl.pct_change(1).iloc[1:]\n",
    "# Obtenemos su media y desviación estándar de los rendimientos\n",
    "mu_R = Ri.mean()[0]\n",
    "sigma_R = Ri.std()[0]\n",
    "Ri"
   ]
  },
  {
   "cell_type": "code",
   "execution_count": 12,
   "metadata": {},
   "outputs": [
    {
     "data": {
      "text/plain": [
       "DatetimeIndex(['2019-11-12', '2019-11-13', '2019-11-14', '2019-11-15',\n",
       "               '2019-11-16', '2019-11-17', '2019-11-18', '2019-11-19',\n",
       "               '2019-11-20', '2019-11-21',\n",
       "               ...\n",
       "               '2020-02-19', '2020-02-20', '2020-02-21', '2020-02-22',\n",
       "               '2020-02-23', '2020-02-24', '2020-02-25', '2020-02-26',\n",
       "               '2020-02-27', '2020-02-28'],\n",
       "              dtype='datetime64[ns]', length=109, freq='D')"
      ]
     },
     "execution_count": 12,
     "metadata": {},
     "output_type": "execute_result"
    }
   ],
   "source": [
    "ndays = 109\n",
    "nscen = 10\n",
    "dates = pd.date_range(start='2019-11-12', periods = ndays)\n",
    "dates"
   ]
  },
  {
   "cell_type": "code",
   "execution_count": 13,
   "metadata": {},
   "outputs": [
    {
     "data": {
      "text/html": [
       "<div>\n",
       "<style scoped>\n",
       "    .dataframe tbody tr th:only-of-type {\n",
       "        vertical-align: middle;\n",
       "    }\n",
       "\n",
       "    .dataframe tbody tr th {\n",
       "        vertical-align: top;\n",
       "    }\n",
       "\n",
       "    .dataframe thead th {\n",
       "        text-align: right;\n",
       "    }\n",
       "</style>\n",
       "<table border=\"1\" class=\"dataframe\">\n",
       "  <thead>\n",
       "    <tr style=\"text-align: right;\">\n",
       "      <th></th>\n",
       "      <th>0</th>\n",
       "      <th>1</th>\n",
       "      <th>2</th>\n",
       "      <th>...</th>\n",
       "      <th>7</th>\n",
       "      <th>8</th>\n",
       "      <th>9</th>\n",
       "    </tr>\n",
       "  </thead>\n",
       "  <tbody>\n",
       "    <tr>\n",
       "      <td>2019-11-12</td>\n",
       "      <td>-3.013e-03</td>\n",
       "      <td>1.928e-02</td>\n",
       "      <td>5.017e-03</td>\n",
       "      <td>...</td>\n",
       "      <td>-2.690e-02</td>\n",
       "      <td>-2.979e-02</td>\n",
       "      <td>2.257e-02</td>\n",
       "    </tr>\n",
       "    <tr>\n",
       "      <td>2019-11-13</td>\n",
       "      <td>-3.305e-05</td>\n",
       "      <td>-1.291e-04</td>\n",
       "      <td>1.063e-04</td>\n",
       "      <td>...</td>\n",
       "      <td>-4.132e-04</td>\n",
       "      <td>-2.803e-04</td>\n",
       "      <td>6.991e-04</td>\n",
       "    </tr>\n",
       "    <tr>\n",
       "      <td>2019-11-14</td>\n",
       "      <td>9.879e-08</td>\n",
       "      <td>-4.332e-06</td>\n",
       "      <td>-4.580e-07</td>\n",
       "      <td>...</td>\n",
       "      <td>-1.107e-06</td>\n",
       "      <td>1.627e-06</td>\n",
       "      <td>5.743e-06</td>\n",
       "    </tr>\n",
       "    <tr>\n",
       "      <td>2019-11-15</td>\n",
       "      <td>-2.106e-09</td>\n",
       "      <td>-1.159e-08</td>\n",
       "      <td>-1.745e-08</td>\n",
       "      <td>...</td>\n",
       "      <td>7.189e-09</td>\n",
       "      <td>-6.508e-09</td>\n",
       "      <td>-5.184e-08</td>\n",
       "    </tr>\n",
       "    <tr>\n",
       "      <td>2019-11-16</td>\n",
       "      <td>-4.363e-12</td>\n",
       "      <td>-4.138e-10</td>\n",
       "      <td>3.339e-10</td>\n",
       "      <td>...</td>\n",
       "      <td>3.014e-12</td>\n",
       "      <td>9.907e-11</td>\n",
       "      <td>-1.634e-09</td>\n",
       "    </tr>\n",
       "    <tr>\n",
       "      <td>...</td>\n",
       "      <td>...</td>\n",
       "      <td>...</td>\n",
       "      <td>...</td>\n",
       "      <td>...</td>\n",
       "      <td>...</td>\n",
       "      <td>...</td>\n",
       "      <td>...</td>\n",
       "    </tr>\n",
       "    <tr>\n",
       "      <td>2020-02-24</td>\n",
       "      <td>-3.909e-221</td>\n",
       "      <td>6.024e-213</td>\n",
       "      <td>1.904e-224</td>\n",
       "      <td>...</td>\n",
       "      <td>9.552e-216</td>\n",
       "      <td>-2.457e-216</td>\n",
       "      <td>8.602e-211</td>\n",
       "    </tr>\n",
       "    <tr>\n",
       "      <td>2020-02-25</td>\n",
       "      <td>-3.448e-223</td>\n",
       "      <td>-4.755e-215</td>\n",
       "      <td>1.292e-226</td>\n",
       "      <td>...</td>\n",
       "      <td>1.230e-217</td>\n",
       "      <td>3.509e-218</td>\n",
       "      <td>-5.560e-213</td>\n",
       "    </tr>\n",
       "    <tr>\n",
       "      <td>2020-02-26</td>\n",
       "      <td>-5.807e-225</td>\n",
       "      <td>-5.153e-217</td>\n",
       "      <td>-7.778e-229</td>\n",
       "      <td>...</td>\n",
       "      <td>2.795e-220</td>\n",
       "      <td>7.315e-220</td>\n",
       "      <td>-2.144e-216</td>\n",
       "    </tr>\n",
       "    <tr>\n",
       "      <td>2020-02-27</td>\n",
       "      <td>-3.058e-227</td>\n",
       "      <td>-7.911e-220</td>\n",
       "      <td>1.469e-230</td>\n",
       "      <td>...</td>\n",
       "      <td>-4.168e-222</td>\n",
       "      <td>-5.745e-222</td>\n",
       "      <td>-1.211e-218</td>\n",
       "    </tr>\n",
       "    <tr>\n",
       "      <td>2020-02-28</td>\n",
       "      <td>4.006e-229</td>\n",
       "      <td>5.003e-223</td>\n",
       "      <td>-1.655e-232</td>\n",
       "      <td>...</td>\n",
       "      <td>1.022e-223</td>\n",
       "      <td>5.018e-224</td>\n",
       "      <td>-1.241e-220</td>\n",
       "    </tr>\n",
       "  </tbody>\n",
       "</table>\n",
       "<p>109 rows × 10 columns</p>\n",
       "</div>"
      ],
      "text/plain": [
       "                     0           1           2  ...           7           8  \\\n",
       "2019-11-12  -3.013e-03   1.928e-02   5.017e-03  ...  -2.690e-02  -2.979e-02   \n",
       "2019-11-13  -3.305e-05  -1.291e-04   1.063e-04  ...  -4.132e-04  -2.803e-04   \n",
       "2019-11-14   9.879e-08  -4.332e-06  -4.580e-07  ...  -1.107e-06   1.627e-06   \n",
       "2019-11-15  -2.106e-09  -1.159e-08  -1.745e-08  ...   7.189e-09  -6.508e-09   \n",
       "2019-11-16  -4.363e-12  -4.138e-10   3.339e-10  ...   3.014e-12   9.907e-11   \n",
       "...                ...         ...         ...  ...         ...         ...   \n",
       "2020-02-24 -3.909e-221  6.024e-213  1.904e-224  ...  9.552e-216 -2.457e-216   \n",
       "2020-02-25 -3.448e-223 -4.755e-215  1.292e-226  ...  1.230e-217  3.509e-218   \n",
       "2020-02-26 -5.807e-225 -5.153e-217 -7.778e-229  ...  2.795e-220  7.315e-220   \n",
       "2020-02-27 -3.058e-227 -7.911e-220  1.469e-230  ... -4.168e-222 -5.745e-222   \n",
       "2020-02-28  4.006e-229  5.003e-223 -1.655e-232  ...  1.022e-223  5.018e-224   \n",
       "\n",
       "                     9  \n",
       "2019-11-12   2.257e-02  \n",
       "2019-11-13   6.991e-04  \n",
       "2019-11-14   5.743e-06  \n",
       "2019-11-15  -5.184e-08  \n",
       "2019-11-16  -1.634e-09  \n",
       "...                ...  \n",
       "2020-02-24  8.602e-211  \n",
       "2020-02-25 -5.560e-213  \n",
       "2020-02-26 -2.144e-216  \n",
       "2020-02-27 -1.211e-218  \n",
       "2020-02-28 -1.241e-220  \n",
       "\n",
       "[109 rows x 10 columns]"
      ]
     },
     "execution_count": 13,
     "metadata": {},
     "output_type": "execute_result"
    }
   ],
   "source": [
    "dt = 1; # Rendimiento diario \n",
    "Z = np.random.randn(ndays,nscen)  # Z ~ N(0,1)\n",
    "# Simulación normal de los rendimientos\n",
    "Ri_dt = pd.DataFrame(mu_R*dt+Z*sigma_R*np.sqrt(dt),index=dates)\n",
    "Ri_dt.cumprod()"
   ]
  },
  {
   "cell_type": "code",
   "execution_count": 14,
   "metadata": {},
   "outputs": [
    {
     "data": {
      "image/png": "[encoded data removed]",
      "text/plain": [
       "<Figure size 576x432 with 1 Axes>"
      ]
     },
     "metadata": {
      "needs_background": "light"
     },
     "output_type": "display_data"
    }
   ],
   "source": [
    "# Simulación del precio\n",
    "S_0 = closes_aapl.iloc[-1,0]\n",
    "S_T = S_0*(1+Ri_dt).cumprod()\n",
    "\n",
    "# Se muestran los precios simulados con los precios descargados\n",
    "pd.concat([closes_aapl,S_T]).plot(figsize=(8,6));\n",
    "plt.title('Simulación de precios usando rendimiento simple');"
   ]
  },
  {
   "cell_type": "code",
   "execution_count": 16,
   "metadata": {},
   "outputs": [],
   "source": [
    "def calc_daily_ret(closes):\n",
    "    return np.log(closes/closes.shift(1)).iloc[1:]"
   ]
  },
  {
   "cell_type": "code",
   "execution_count": 19,
   "metadata": {},
   "outputs": [
    {
     "data": {
      "image/png": "[encoded data removed]",
      "text/plain": [
       "<Figure size 576x432 with 1 Axes>"
      ]
     },
     "metadata": {
      "needs_background": "light"
     },
     "output_type": "display_data"
    }
   ],
   "source": [
    "ri = calc_daily_ret(closes_aapl)\n",
    "# Usando la media y desviación estándar de los rendimientos logarítmicos\n",
    "mu_r = ri.mean()[0]\n",
    "sigma_r = ri.std()[0]\n",
    "\n",
    "# # Usando la equivalencia teórica\n",
    "# mu_r2 = mu_R - (sigma_R**2)/2\n",
    "\n",
    "sim_ret_ri = pd.DataFrame(mu_r*dt+Z*sigma_r*np.sqrt(dt), index=dates)\n",
    "\n",
    "# Simulación del precio\n",
    "S_0 = closes_aapl.iloc[-1,0]\n",
    "S_T2 = S_0*np.exp(sim_ret_ri.cumsum())\n",
    "\n",
    "\n",
    "# Se muestran los precios simulados con los precios descargados\n",
    "pd.concat([closes_aapl,S_T2]).plot(figsize=(8,6));\n",
    "plt.title('Simulación de precios usando rendimiento logarítmico');"
   ]
  },
  {
   "cell_type": "code",
   "execution_count": 22,
   "metadata": {},
   "outputs": [
    {
     "data": {
      "image/png": "[encoded data removed]",
      "text/plain": [
       "<Figure size 576x432 with 1 Axes>"
      ]
     },
     "metadata": {
      "needs_background": "light"
     },
     "output_type": "display_data"
    }
   ],
   "source": [
    "ret_aapl = calc_daily_ret(closes_aapl)\n",
    "ret_aapl.plot(figsize=(8,6));"
   ]
  },
  {
   "cell_type": "code",
   "execution_count": 23,
   "metadata": {},
   "outputs": [
    {
     "data": {
      "text/plain": [
       "(0.0011838779914103003, 0.015724361041788027)"
      ]
     },
     "execution_count": 23,
     "metadata": {},
     "output_type": "execute_result"
    }
   ],
   "source": [
    "mu = ret_aapl.mean()[0]\n",
    "sigma = ret_aapl.std()[0]\n",
    "mu, sigma #Obtenemos la media y la desviación de los rendimientos"
   ]
  },
  {
   "cell_type": "code",
   "execution_count": 24,
   "metadata": {},
   "outputs": [],
   "source": [
    "# Tasa de bonos de 1 yr de fecha 11/01/19 -> 1.53%\n",
    "r = 0.0153/360 # Tasa diaria"
   ]
  },
  {
   "cell_type": "code",
   "execution_count": 26,
   "metadata": {},
   "outputs": [],
   "source": [
    "from datetime import date\n",
    "Hoy = date.today()\n",
    "K=240  # strike price\n",
    "ndays = 109 \n",
    "nscen = 100000\n",
    "dates = pd.date_range(start= Hoy, periods = ndays)\n",
    "S0 = closes_aapl.iloc[-1,0]  # Condición inicial del precio a simular\n",
    "\n",
    "sim_ret = pd.DataFrame(sigma*np.random.randn(ndays,nscen)+r,index=dates)\n",
    "sim_closes = S0*np.exp(sim_ret.cumsum())\n",
    "#strike = pd.DataFrame({'Strike':K*np.ones(ndays)}, index=dates)\n",
    "#simul = pd.concat([closes_aapl.T,strike.T,sim_closes.T]).T\n",
    "#simul.plot(figsize=(8,6),legend=False);"
   ]
  },
  {
   "cell_type": "code",
   "execution_count": 27,
   "metadata": {},
   "outputs": [
    {
     "data": {
      "image/png": "[encoded data removed]",
      "text/plain": [
       "<Figure size 432x288 with 1 Axes>"
      ]
     },
     "metadata": {
      "needs_background": "light"
     },
     "output_type": "display_data"
    }
   ],
   "source": [
    "strike = pd.DataFrame(K*np.ones([ndays,nscen]), index=dates)\n",
    "put = pd.DataFrame({'Prima':np.exp(-r*ndays) \\\n",
    "              *np.fmax(strike-sim_closes,np.zeros([ndays,nscen])).T.mean()}, index=dates)\n",
    "put.plot();"
   ]
  },
  {
   "cell_type": "code",
   "execution_count": 28,
   "metadata": {},
   "outputs": [
    {
     "data": {
      "text/plain": [
       "Prima    6.399\n",
       "Name: 2020-03-08 00:00:00, dtype: float64"
      ]
     },
     "execution_count": 28,
     "metadata": {},
     "output_type": "execute_result"
    }
   ],
   "source": [
    "put.iloc[-1]"
   ]
  },
  {
   "cell_type": "code",
   "execution_count": 30,
   "metadata": {},
   "outputs": [
    {
     "name": "stdout",
     "output_type": "stream",
     "text": [
      "(6.040511361451895, 6.756935565766634)\n",
      "(6.040511361451895, 6.756935565766634)\n"
     ]
    }
   ],
   "source": [
    "confianza = 0.99\n",
    "sigma_est = sim_closes.iloc[-1].sem()\n",
    "mean_est = put.iloc[-1].Prima\n",
    "i1 = st.t.interval(confianza,nscen-1, loc=mean_est, scale=sigma_est)\n",
    "i2 = st.norm.interval(confianza, loc=mean_est, scale=sigma_est)\n",
    "print(i1)\n",
    "print(i1)"
   ]
  },
  {
   "cell_type": "code",
   "execution_count": null,
   "metadata": {},
   "outputs": [],
   "source": []
  }
 ],
 "metadata": {
  "kernelspec": {
   "display_name": "Python 3",
   "language": "python",
   "name": "python3"
  },
  "language_info": {
   "codemirror_mode": {
    "name": "ipython",
    "version": 3
   },
   "file_extension": ".py",
   "mimetype": "text/x-python",
   "name": "python",
   "nbconvert_exporter": "python",
   "pygments_lexer": "ipython3",
   "version": "3.7.4"
  }
 },
 "nbformat": 4,
 "nbformat_minor": 2
}
